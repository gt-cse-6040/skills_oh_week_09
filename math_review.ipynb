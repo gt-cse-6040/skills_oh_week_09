{
  "nbformat": 4,
  "nbformat_minor": 0,
  "metadata": {
    "colab": {
      "provenance": [],
      "authorship_tag": "ABX9TyObo2XrdPA1d4sdnMMhQc8i",
      "include_colab_link": true
    },
    "kernelspec": {
      "name": "python3",
      "display_name": "Python 3"
    },
    "language_info": {
      "name": "python"
    }
  },
  "cells": [
    {
      "cell_type": "markdown",
      "metadata": {
        "id": "view-in-github",
        "colab_type": "text"
      },
      "source": [
        "<a href=\"https://colab.research.google.com/github/gt-cse-6040/skills_oh_week_09/blob/main/math_review.ipynb\" target=\"_parent\"><img src=\"https://colab.research.google.com/assets/colab-badge.svg\" alt=\"Open In Colab\"/></a>"
      ]
    },
    {
      "cell_type": "markdown",
      "source": [
        "# Translating math to code"
      ],
      "metadata": {
        "id": "4PtCs_AUYQ1j"
      }
    },
    {
      "cell_type": "code",
      "source": [
        "import numpy as np"
      ],
      "metadata": {
        "id": "_VshYJIYbwQL"
      },
      "execution_count": 1,
      "outputs": []
    },
    {
      "cell_type": "markdown",
      "source": [
        "## Pearson Correlation Coefficient\n",
        "\n",
        "Given two vectors $x$ and $y$ of the same length we define the Pearson correlation coefficient $r$ as follows:\n",
        "\n",
        "$$r = \\frac{\\sum_{i=1}^n(x_i - \\bar{x})(y_i-\\bar{y})}{\\sqrt{\\sum_{i=1}^n(x_i - \\bar{x})^2\\sum_{i=1}^n(y_i - \\bar{y})^2}}$$\n",
        "\n",
        "We want to implement this formula in Python...\n",
        "\n"
      ],
      "metadata": {
        "id": "h1L3Fn-kYlSZ"
      }
    },
    {
      "cell_type": "code",
      "execution_count": 2,
      "metadata": {
        "id": "oCXZybJtYQIw"
      },
      "outputs": [],
      "source": [
        "def pearson_correlation(x, y):\n",
        "  n = len(x)\n",
        "  x_bar = sum(x)/n\n",
        "  y_bar = sum(y)/n\n",
        "  res_x = [xi - x_bar for xi in x]\n",
        "  res_y = [yi - y_bar for yi in y]\n",
        "  numerator = sum(xi*yi for xi, yi in zip(res_x, res_y))\n",
        "  denominator_squared = sum(xi**2 for xi in res_x) * sum(yi**2 for yi in res_y)\n",
        "  denominator = denominator_squared**(1/2)\n",
        "  return numerator/denominator"
      ]
    },
    {
      "cell_type": "markdown",
      "source": [
        "This is a little hard to parse, but it *should* work. Let's do an ad-hoc test and compare to `numpy`'s built-in function for the same calculation. Here we will take 100 thousand randomly generated numbers and see how much the calculations diverge."
      ],
      "metadata": {
        "id": "sNUfHlrEeDUp"
      }
    },
    {
      "cell_type": "code",
      "source": [
        "some_x = np.random.random(100000) * 10\n",
        "some_y = np.random.random(100000) * 10"
      ],
      "metadata": {
        "id": "gv56NtMPdAbE"
      },
      "execution_count": 14,
      "outputs": []
    },
    {
      "cell_type": "code",
      "source": [
        "numpy_answer = np.corrcoef(some_x, some_y)[0,1]\n",
        "our_answer = pearson_correlation(some_x, some_y)\n",
        "abs(numpy_answer-our_answer)"
      ],
      "metadata": {
        "colab": {
          "base_uri": "https://localhost:8080/"
        },
        "id": "SiuuSFjcc9VS",
        "outputId": "ec72937d-005d-4515-fd20-7f2eda278f55"
      },
      "execution_count": 15,
      "outputs": [
        {
          "output_type": "execute_result",
          "data": {
            "text/plain": [
              "1.7997756063259374e-17"
            ]
          },
          "metadata": {},
          "execution_count": 15
        }
      ]
    },
    {
      "cell_type": "markdown",
      "source": [
        "Not very much difference $≈2×10^{-17}$ But how fast is it?"
      ],
      "metadata": {
        "id": "0hWGM1TvelCM"
      }
    },
    {
      "cell_type": "code",
      "source": [
        "python_time = %timeit -o pearson_correlation(some_x, some_y)\n",
        "builtin_time = %timeit -o np.corrcoef(some_x, some_y)[0,1]\n",
        "python_time.average / builtin_time.average"
      ],
      "metadata": {
        "colab": {
          "base_uri": "https://localhost:8080/"
        },
        "id": "NdSHzIYVdbge",
        "outputId": "d902e9ac-68ff-45fa-8e6d-1a745a079489"
      },
      "execution_count": 25,
      "outputs": [
        {
          "output_type": "stream",
          "name": "stdout",
          "text": [
            "265 ms ± 10.6 ms per loop (mean ± std. dev. of 7 runs, 1 loop each)\n",
            "877 µs ± 31.2 µs per loop (mean ± std. dev. of 7 runs, 1000 loops each)\n"
          ]
        },
        {
          "output_type": "execute_result",
          "data": {
            "text/plain": [
              "302.41921354115993"
            ]
          },
          "metadata": {},
          "execution_count": 25
        }
      ]
    },
    {
      "cell_type": "markdown",
      "source": [
        "The builtin is *hundreds* of times faster, and our solution is kind of hard to read. Let's think of how we can improve it!\n",
        "\n",
        "* Is there any way to \"vectorize\" the formula?\n",
        "  * Improves efficiency by using optimized Numpy operations\n",
        "  * Improves readability\n",
        "\n",
        "Yes! We can vectorize this formula. If we define $\\overset{*}{x}$ such that $\\overset{*}{x}_i = x_i - \\bar{x}$ then our formula becomes much simpler to write in terms of **dot products**.\n",
        "$$r = \\frac{\\overset{*}{x}^T\\overset{*}{y}}{\\sqrt{\\overset{*}{x}^T\\overset{*}{x}\\overset{*}{y}^T\\overset{*}{y}}}$$\n",
        "\n"
      ],
      "metadata": {
        "id": "_5R7Zjskf3WG"
      }
    },
    {
      "cell_type": "code",
      "source": [
        "def vector_pearson(x, y):\n",
        "  x_star = x - np.mean(x)\n",
        "  y_star = y - np.mean(y)\n",
        "  numerator = x_star.dot(y_star)\n",
        "  denominator = np.sqrt(x_star.dot(x_star) * y_star.dot(y_star))\n",
        "  return numerator/denominator"
      ],
      "metadata": {
        "id": "CDxPE7ORfWyw"
      },
      "execution_count": 26,
      "outputs": []
    },
    {
      "cell_type": "code",
      "source": [
        "numpy_answer = np.corrcoef(some_x, some_y)[0,1]\n",
        "our_answer = vector_pearson(some_x, some_y)\n",
        "abs(numpy_answer-our_answer)"
      ],
      "metadata": {
        "colab": {
          "base_uri": "https://localhost:8080/"
        },
        "id": "JjW9dMvqkrLM",
        "outputId": "1a725a87-b0d0-426d-99ea-877ff69ec70b"
      },
      "execution_count": 28,
      "outputs": [
        {
          "output_type": "execute_result",
          "data": {
            "text/plain": [
              "1.1492543028346347e-17"
            ]
          },
          "metadata": {},
          "execution_count": 28
        }
      ]
    },
    {
      "cell_type": "code",
      "source": [
        "python_time = %timeit -o vector_pearson(some_x, some_y)\n",
        "builtin_time = %timeit -o np.corrcoef(some_x, some_y)[0,1]\n",
        "python_time.average / builtin_time.average"
      ],
      "metadata": {
        "colab": {
          "base_uri": "https://localhost:8080/"
        },
        "id": "K4IfY3qvfK5F",
        "outputId": "da562682-b1ea-4d83-f4bc-13b080b6c5c5"
      },
      "execution_count": 27,
      "outputs": [
        {
          "output_type": "stream",
          "name": "stdout",
          "text": [
            "466 µs ± 74.3 µs per loop (mean ± std. dev. of 7 runs, 1000 loops each)\n",
            "869 µs ± 12.1 µs per loop (mean ± std. dev. of 7 runs, 1000 loops each)\n"
          ]
        },
        {
          "output_type": "execute_result",
          "data": {
            "text/plain": [
              "0.5355100630694728"
            ]
          },
          "metadata": {},
          "execution_count": 27
        }
      ]
    },
    {
      "cell_type": "markdown",
      "source": [
        "Turns out this implementation is faster! (don't get too excited `corrcoef` is calculating multiple coefficients, but we're only looking at one)"
      ],
      "metadata": {
        "id": "tpDwqS8PkcKi"
      }
    },
    {
      "cell_type": "markdown",
      "source": [
        "Let's review\n",
        "- We can translate $\\sum_{\\forall i} v_i * w_i = v^Tw$ for any vectors $v$ and $w$ of the same length.\n",
        "- We can perform element-wise and broadcasting arithmetec using mathematical operators (+-*/)\n"
      ],
      "metadata": {
        "id": "z9xkaoOCk_tR"
      }
    },
    {
      "cell_type": "code",
      "source": [],
      "metadata": {
        "id": "TXSyUHY5fMbI"
      },
      "execution_count": 25,
      "outputs": []
    }
  ]
}